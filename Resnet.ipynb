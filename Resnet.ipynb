{
 "cells": [
  {
   "cell_type": "code",
   "execution_count": 1,
   "id": "8de6fa2f",
   "metadata": {
    "ExecuteTime": {
     "end_time": "2022-04-06T03:20:40.779828Z",
     "start_time": "2022-04-06T03:20:39.351299Z"
    },
    "scrolled": true
   },
   "outputs": [
    {
     "name": "stderr",
     "output_type": "stream",
     "text": [
      "\u001b[38;5;2m[i 0406 11:20:39.401111 28 log.cc:351] Load log_sync: 1\u001b[m\n",
      "\u001b[38;5;2m[i 0406 11:20:39.434941 28 compiler.py:951] Jittor(1.3.1.56) src: /home/hx-gpu3/anaconda3/envs/mmlab/lib/python3.9/site-packages/jittor\u001b[m\n",
      "\u001b[38;5;2m[i 0406 11:20:39.437705 28 compiler.py:952] g++ at /usr/bin/g++(7.5.0)\u001b[m\n",
      "\u001b[38;5;2m[i 0406 11:20:39.438180 28 compiler.py:953] cache_path: /home/hx-gpu3/.cache/jittor/jt1.3.1/g++7.5.0/py3.9.10/Linux-5.4.0-99x95/IntelRCoreTMi9x92/default\u001b[m\n",
      "\u001b[38;5;2m[i 0406 11:20:39.440853 28 compiler.py:896] Found nvcc(11.0.194) at /usr/local/cuda-11.0/bin/nvcc\u001b[m\n",
      "\u001b[38;5;2m[i 0406 11:20:39.475979 28 __init__.py:411] Found gdb(8.1.0) at /usr/bin/gdb.\u001b[m\n",
      "\u001b[38;5;2m[i 0406 11:20:39.479503 28 __init__.py:411] Found addr2line(2.30) at /usr/bin/addr2line.\u001b[m\n",
      "\u001b[38;5;2m[i 0406 11:20:39.537354 28 compiler.py:1006] cuda key:cu11.0.194_sm_86\u001b[m\n",
      "\u001b[38;5;2m[i 0406 11:20:39.634326 28 __init__.py:227] Total mem: 62.74GB, using 16 procs for compiling.\u001b[m\n",
      "\u001b[38;5;2m[i 0406 11:20:39.704397 28 jit_compiler.cc:28] Load cc_path: /usr/bin/g++\u001b[m\n",
      "\u001b[38;5;2m[i 0406 11:20:39.705135 28 jit_compiler.cc:31] Load nvcc_path: /usr/local/cuda-11.0/bin/nvcc\u001b[m\n",
      "\u001b[38;5;2m[i 0406 11:20:39.849632 28 init.cc:62] Found cuda archs: [86,]\u001b[m\n",
      "\u001b[38;5;3m[w 0406 11:20:39.856062 28 compiler.py:1351] CUDA arch(86)>80 will be backward-compatible\u001b[m\n",
      "gcc: error: unrecognized command line option ‘--showme:version’; did you mean ‘--no-version’?\n",
      "\u001b[38;5;2m[i 0406 11:20:39.868101 28 compile_extern.py:516] mpicc not found, distribution disabled.\u001b[m\n",
      "\u001b[38;5;3m[w 0406 11:20:39.882973 28 compile_extern.py:200] CUDA related path found in LD_LIBRARY_PATH or PATH(['', '/usr/local/cuda-11.1/lib64', '/home/hx-gpu3/anaconda3/envs/mmlab/bin', '/home/hx-gpu3/anaconda3/condabin', '/usr/local/sbin', '/usr/local/bin', '/usr/sbin', '/usr/bin', '/sbin', '/bin', '/usr/games', '/usr/local/games', '/snap/bin', '/usr/local/cuda-11.1/bin', '/home/hx-gpu3/.myscripts']), This path may cause jittor found the wrong libs, please unset LD_LIBRARY_PATH and remove cuda lib path in Path. \u001b[m\n",
      "\u001b[38;5;2m[i 0406 11:20:39.896712 28 compile_extern.py:30] found /usr/local/cuda-11.0/include/cublas.h\u001b[m\n",
      "\u001b[38;5;2m[i 0406 11:20:39.901711 28 compile_extern.py:30] found /usr/local/cuda-11.0/lib64/libcublas.so\u001b[m\n",
      "\u001b[38;5;2m[i 0406 11:20:39.902467 28 compile_extern.py:30] found /usr/local/cuda-11.0/lib64/libcublasLt.so.11\u001b[m\n",
      "\u001b[38;5;2m[i 0406 11:20:40.273219 28 compile_extern.py:30] found /usr/local/cuda-11.0/include/cudnn.h\u001b[m\n",
      "\u001b[38;5;2m[i 0406 11:20:40.289500 28 compile_extern.py:30] found /usr/local/cuda-11.0/lib64/libcudnn.so.8\u001b[m\n",
      "\u001b[38;5;2m[i 0406 11:20:40.290240 28 compile_extern.py:30] found /usr/local/cuda-11.0/lib64/libcudnn_ops_infer.so.8\u001b[m\n",
      "\u001b[38;5;2m[i 0406 11:20:40.292060 28 compile_extern.py:30] found /usr/local/cuda-11.0/lib64/libcudnn_ops_train.so.8\u001b[m\n",
      "\u001b[38;5;2m[i 0406 11:20:40.292519 28 compile_extern.py:30] found /usr/local/cuda-11.0/lib64/libcudnn_cnn_infer.so.8\u001b[m\n",
      "\u001b[38;5;2m[i 0406 11:20:40.384310 28 compile_extern.py:30] found /usr/local/cuda-11.0/lib64/libcudnn_cnn_train.so.8\u001b[m\n",
      "\u001b[38;5;2m[i 0406 11:20:40.732095 28 compile_extern.py:30] found /usr/local/cuda-11.0/include/curand.h\u001b[m\n",
      "\u001b[38;5;2m[i 0406 11:20:40.751906 28 compile_extern.py:30] found /usr/local/cuda-11.0/lib64/libcurand.so\u001b[m\n",
      "\u001b[38;5;2m[i 0406 11:20:40.775117 28 cuda_flags.cc:32] CUDA enabled.\u001b[m\n"
     ]
    }
   ],
   "source": [
    "import time\n",
    "import  os\n",
    "os.environ['nvcc_path']='/usr/local/cuda-11.0/bin/nvcc'\n",
    "import jittor as jt\n",
    "from jittor.models import resnet50\n",
    "jt.flags.use_cuda = jt.has_cuda\n",
    "\n",
    "warmup = 10\n",
    "rerun = 1000\n",
    "batch_size = 8\n",
    "data = jt.random((batch_size, 3, 224, 224))\n",
    "model = resnet50()\n",
    "model.eval()\n"
   ]
  },
  {
   "cell_type": "code",
   "execution_count": 2,
   "id": "40099fb7",
   "metadata": {
    "ExecuteTime": {
     "end_time": "2022-04-06T03:20:48.996084Z",
     "start_time": "2022-04-06T03:20:40.802027Z"
    },
    "scrolled": true
   },
   "outputs": [
    {
     "name": "stdout",
     "output_type": "stream",
     "text": [
      "start warmup\n",
      "\n",
      "start run\n",
      " 999\n",
      "Jittor FPS: 1100.7726436095481\n"
     ]
    }
   ],
   "source": [
    "\n",
    "# 此段代码对jittor进行热身，确保时间测试准确\n",
    "print('start warmup')\n",
    "print()\n",
    "jt.sync_all(True)\n",
    "for i in range(warmup):\n",
    "    pred = model(data)\n",
    "    # sync是把计算图发送到计算设备上\n",
    "    pred.sync()\n",
    "# sync_all(true)是把计算图发射到计算设备上，并且同步。\n",
    "# 只有运行了jt.sync_all(True)才会真正地运行，时间才是有效的，因此执行forward前后都要执行这句话\n",
    "jt.sync_all(True)\n",
    "\n",
    "# 开始测试运行时间\n",
    "print('start run')\n",
    "start = time.time()\n",
    "for i in range(rerun):\n",
    "    print('\\r',i,end='')\n",
    "    pred = model(data)\n",
    "    pred.sync()\n",
    "jt.sync_all(True)\n",
    "end = time.time()\n",
    "\n",
    "print()\n",
    "print(\"Jittor FPS:\", (rerun*batch_size)/(end-start))\n"
   ]
  },
  {
   "cell_type": "code",
   "execution_count": 1,
   "id": "1433a495",
   "metadata": {
    "ExecuteTime": {
     "end_time": "2022-04-06T03:21:05.978762Z",
     "start_time": "2022-04-06T03:20:55.740004Z"
    },
    "scrolled": true
   },
   "outputs": [
    {
     "name": "stdout",
     "output_type": "stream",
     "text": [
      "start warmup\n",
      "start run\n",
      " 999PyTorch FPS: 1008.2638166407783\n"
     ]
    }
   ],
   "source": [
    "import time\n",
    "import torch\n",
    "from torchvision.models import resnet50\n",
    "\n",
    "warmup = 10\n",
    "rerun = 1000\n",
    "batch_size = 8\n",
    "data = torch.randn((batch_size, 3, 224, 224)).to('cuda:0')\n",
    "model = resnet50()\n",
    "model.to('cuda:0')\n",
    "model.eval()\n",
    "\n",
    "# 此段代码对pytorch进行热身，确保时间测试准确\n",
    "print('start warmup')\n",
    "torch.cuda.synchronize()\n",
    "for i in range(warmup):\n",
    "    pred = model(data)\n",
    "# synchronize用于确保PyTorch计算完成\n",
    "torch.cuda.synchronize()\n",
    "\n",
    "# 开始测试运行时间\n",
    "print('start run')\n",
    "start = time.time()\n",
    "for i in range(rerun):\n",
    "    print('\\r',i,end='')\n",
    "    pred = model(data)\n",
    "torch.cuda.synchronize()\n",
    "end = time.time()\n",
    "\n",
    "print(\"PyTorch FPS:\", (rerun*batch_size)/(end-start))"
   ]
  },
  {
   "cell_type": "code",
   "execution_count": null,
   "id": "0bac9729",
   "metadata": {},
   "outputs": [],
   "source": []
  }
 ],
 "metadata": {
  "kernelspec": {
   "display_name": "Python [conda env:mmlab]",
   "language": "python",
   "name": "conda-env-mmlab-py"
  },
  "language_info": {
   "codemirror_mode": {
    "name": "ipython",
    "version": 3
   },
   "file_extension": ".py",
   "mimetype": "text/x-python",
   "name": "python",
   "nbconvert_exporter": "python",
   "pygments_lexer": "ipython3",
   "version": "3.9.10"
  },
  "toc": {
   "base_numbering": 1,
   "nav_menu": {},
   "number_sections": true,
   "sideBar": true,
   "skip_h1_title": false,
   "title_cell": "Table of Contents",
   "title_sidebar": "Contents",
   "toc_cell": false,
   "toc_position": {},
   "toc_section_display": true,
   "toc_window_display": false
  },
  "varInspector": {
   "cols": {
    "lenName": 16,
    "lenType": 16,
    "lenVar": 40
   },
   "kernels_config": {
    "python": {
     "delete_cmd_postfix": "",
     "delete_cmd_prefix": "del ",
     "library": "var_list.py",
     "varRefreshCmd": "print(var_dic_list())"
    },
    "r": {
     "delete_cmd_postfix": ") ",
     "delete_cmd_prefix": "rm(",
     "library": "var_list.r",
     "varRefreshCmd": "cat(var_dic_list()) "
    }
   },
   "types_to_exclude": [
    "module",
    "function",
    "builtin_function_or_method",
    "instance",
    "_Feature"
   ],
   "window_display": false
  }
 },
 "nbformat": 4,
 "nbformat_minor": 5
}
