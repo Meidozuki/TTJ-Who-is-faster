{
 "cells": [
  {
   "cell_type": "code",
   "execution_count": 1,
   "id": "77645c16",
   "metadata": {
    "ExecuteTime": {
     "end_time": "2022-04-06T06:05:17.524249Z",
     "start_time": "2022-04-06T06:05:16.702310Z"
    }
   },
   "outputs": [
    {
     "name": "stdout",
     "output_type": "stream",
     "text": [
      "2.6.0\n",
      "jit: autoclustering\n"
     ]
    }
   ],
   "source": [
    "import tensorflow as tf\n",
    "print(tf.__version__)\n",
    "\n",
    "import os\n",
    "os.environ['TF_CPP_MIN_LOG_LEVEL']='2'\n",
    "\n",
    "import tensorflow.keras.backend as K\n",
    "\n",
    "# GPUs= tf.config.list_physical_devices(\"GPU\")\n",
    "# for gpu in GPUs:\n",
    "#     tf.config.experimental.set_memory_growth(gpu,True)\n",
    "# logical_gpus=tf.config.list_logical_devices(\"GPU\")\n",
    "\n",
    "tf.config.optimizer.set_jit(True)\n",
    "print('jit:',tf.config.optimizer.get_jit())"
   ]
  },
  {
   "cell_type": "code",
   "execution_count": 2,
   "id": "7d45a717",
   "metadata": {
    "ExecuteTime": {
     "end_time": "2022-04-06T06:07:59.788149Z",
     "start_time": "2022-04-06T06:05:17.525164Z"
    },
    "scrolled": true
   },
   "outputs": [
    {
     "name": "stdout",
     "output_type": "stream",
     "text": [
      "(50000, 32, 32, 3)\n",
      "Epoch 1/5\n",
      "1563/1563 - 35s - loss: 0.0034 - accuracy: 0.1000\n",
      "Epoch 2/5\n",
      "1563/1563 - 27s - loss: 0.0000e+00 - accuracy: 0.1000\n",
      "Epoch 3/5\n",
      "1563/1563 - 27s - loss: 0.0000e+00 - accuracy: 0.1000\n",
      "Epoch 4/5\n",
      "1563/1563 - 32s - loss: 0.0000e+00 - accuracy: 0.1000\n",
      "Epoch 5/5\n",
      "1563/1563 - 36s - loss: 0.0000e+00 - accuracy: 0.1000\n"
     ]
    },
    {
     "data": {
      "text/plain": [
       "<keras.callbacks.History at 0x7f76217ebee0>"
      ]
     },
     "execution_count": 2,
     "metadata": {},
     "output_type": "execute_result"
    }
   ],
   "source": [
    "from tensorflow import keras\n",
    "from tensorflow.keras import layers\n",
    "\n",
    "\n",
    "# Load some data\n",
    "(x_train, y_train), _ = keras.datasets.cifar10.load_data()\n",
    "(x_train, y_train)=(x_train/255.0),(y_train/255.0)\n",
    "print(x_train.shape)\n",
    "input_shape = x_train.shape[1:]\n",
    "classes = 10\n",
    "\n",
    "# Create a tf.data pipeline of augmented images (and their labels)\n",
    "train_dataset = tf.data.Dataset.from_tensor_slices((x_train, y_train))\n",
    "train_dataset = train_dataset.batch(32).prefetch(-1)\n",
    "\n",
    "\n",
    "\n",
    "model =  keras.applications.ResNet50(  # Add the rest of the model\n",
    "    weights=None, input_shape=input_shape, classes=classes\n",
    ")\n",
    "\n",
    "model.compile(optimizer=\"rmsprop\", \n",
    "              loss=\"sparse_categorical_crossentropy\",\n",
    "              metrics=['accuracy']\n",
    "             )\n",
    "model.fit(train_dataset, epochs=5,verbose=2)"
   ]
  },
  {
   "cell_type": "markdown",
   "id": "f9f48b8d",
   "metadata": {},
   "source": [
    "> 3'26\" 9.8GB  \n",
    "> 3'26\" 9.8GB  \n",
    "> 3'26\" 8.4GB  \n",
    "> 3'10\"  \n",
    "> 2'42\""
   ]
  }
 ],
 "metadata": {
  "kernelspec": {
   "display_name": "Python [conda env:tf26]",
   "language": "python",
   "name": "conda-env-tf26-py"
  },
  "language_info": {
   "codemirror_mode": {
    "name": "ipython",
    "version": 3
   },
   "file_extension": ".py",
   "mimetype": "text/x-python",
   "name": "python",
   "nbconvert_exporter": "python",
   "pygments_lexer": "ipython3",
   "version": "3.9.10"
  },
  "toc": {
   "base_numbering": 1,
   "nav_menu": {},
   "number_sections": true,
   "sideBar": true,
   "skip_h1_title": false,
   "title_cell": "Table of Contents",
   "title_sidebar": "Contents",
   "toc_cell": false,
   "toc_position": {},
   "toc_section_display": true,
   "toc_window_display": false
  },
  "varInspector": {
   "cols": {
    "lenName": 16,
    "lenType": 16,
    "lenVar": 40
   },
   "kernels_config": {
    "python": {
     "delete_cmd_postfix": "",
     "delete_cmd_prefix": "del ",
     "library": "var_list.py",
     "varRefreshCmd": "print(var_dic_list())"
    },
    "r": {
     "delete_cmd_postfix": ") ",
     "delete_cmd_prefix": "rm(",
     "library": "var_list.r",
     "varRefreshCmd": "cat(var_dic_list()) "
    }
   },
   "types_to_exclude": [
    "module",
    "function",
    "builtin_function_or_method",
    "instance",
    "_Feature"
   ],
   "window_display": false
  }
 },
 "nbformat": 4,
 "nbformat_minor": 5
}
