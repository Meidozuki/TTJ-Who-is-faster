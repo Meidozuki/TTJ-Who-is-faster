{
 "cells": [
  {
   "cell_type": "code",
   "execution_count": 1,
   "id": "a73970b6",
   "metadata": {
    "ExecuteTime": {
     "end_time": "2022-04-07T14:01:45.114292Z",
     "start_time": "2022-04-07T14:01:44.697483Z"
    }
   },
   "outputs": [
    {
     "name": "stdout",
     "output_type": "stream",
     "text": [
      "1.9.1\n"
     ]
    }
   ],
   "source": [
    "import torch\n",
    "from torch import nn\n",
    "from torch.utils.data import DataLoader\n",
    "from torchvision import datasets\n",
    "from torchvision.transforms import ToTensor\n",
    "print(torch.__version__)"
   ]
  },
  {
   "cell_type": "code",
   "execution_count": 2,
   "id": "51b23cb2",
   "metadata": {
    "ExecuteTime": {
     "end_time": "2022-04-07T14:01:45.132645Z",
     "start_time": "2022-04-07T14:01:45.115177Z"
    },
    "scrolled": true
   },
   "outputs": [],
   "source": [
    "# Download training data from open datasets.\n",
    "training_data = datasets.MNIST(\n",
    "    root=\"data\",\n",
    "    train=True,\n",
    "    download=True,\n",
    "    transform=ToTensor(),\n",
    ")\n",
    "\n",
    "# Download test data from open datasets.\n",
    "test_data = datasets.MNIST(\n",
    "    root=\"data\",\n",
    "    train=False,\n",
    "    download=True,\n",
    "    transform=ToTensor(),\n",
    ")"
   ]
  },
  {
   "cell_type": "code",
   "execution_count": 3,
   "id": "283fb81d",
   "metadata": {
    "ExecuteTime": {
     "end_time": "2022-04-07T14:01:45.139320Z",
     "start_time": "2022-04-07T14:01:45.134027Z"
    }
   },
   "outputs": [
    {
     "name": "stdout",
     "output_type": "stream",
     "text": [
      "Shape of X [N, C, H, W]: torch.Size([32, 1, 28, 28])\n",
      "Shape of y: torch.Size([32]) torch.int64\n"
     ]
    }
   ],
   "source": [
    "batch_size = 32\n",
    "\n",
    "# Create data loaders.\n",
    "train_dataloader = DataLoader(training_data, batch_size=batch_size, num_workers=4)\n",
    "test_dataloader = DataLoader(test_data, batch_size=batch_size)\n",
    "\n",
    "for X, y in test_dataloader:\n",
    "    print(f\"Shape of X [N, C, H, W]: {X.shape}\")\n",
    "    print(f\"Shape of y: {y.shape} {y.dtype}\")\n",
    "    break"
   ]
  },
  {
   "cell_type": "code",
   "execution_count": 4,
   "id": "b6bfc241",
   "metadata": {
    "ExecuteTime": {
     "end_time": "2022-04-07T14:01:46.572122Z",
     "start_time": "2022-04-07T14:01:45.140089Z"
    }
   },
   "outputs": [
    {
     "name": "stdout",
     "output_type": "stream",
     "text": [
      "Using cuda device\n"
     ]
    }
   ],
   "source": [
    "# Get cpu or gpu device for training.\n",
    "device = \"cuda\" if torch.cuda.is_available() else \"cpu\"\n",
    "print(f\"Using {device} device\")\n",
    "\n",
    "# Define model\n",
    "class NeuralNetwork(nn.Module):\n",
    "    def __init__(self):\n",
    "        super(NeuralNetwork, self).__init__()\n",
    "        self.flatten = nn.Flatten()\n",
    "        self.linear_relu_stack = nn.Sequential(\n",
    "            nn.Linear(28*28, 512),\n",
    "            nn.ReLU(),\n",
    "            nn.Linear(512, 10)\n",
    "        )\n",
    "\n",
    "    def forward(self, x):\n",
    "        x = self.flatten(x)\n",
    "        logits = self.linear_relu_stack(x)\n",
    "        return logits\n",
    "\n",
    "model = NeuralNetwork().to(device)\n",
    "loss_fn = nn.CrossEntropyLoss()\n",
    "optimizer = torch.optim.Adam(model.parameters(), lr=1e-3)"
   ]
  },
  {
   "cell_type": "code",
   "execution_count": 5,
   "id": "b48b867e",
   "metadata": {
    "ExecuteTime": {
     "end_time": "2022-04-07T14:01:49.316220Z",
     "start_time": "2022-04-07T14:01:46.572995Z"
    },
    "scrolled": true
   },
   "outputs": [
    {
     "name": "stdout",
     "output_type": "stream",
     "text": [
      "loss: 2.294444  [    0/60000]\n",
      "loss: 0.339680  [16000/60000]\n",
      "loss: 0.412889  [32000/60000]\n",
      "loss: 0.130739  [48000/60000]\n"
     ]
    }
   ],
   "source": [
    "def train(dataloader, model, loss_fn, optimizer):\n",
    "    size = len(dataloader.dataset)\n",
    "    model.train()\n",
    "    for batch, (X, y) in enumerate(dataloader):\n",
    "        X, y = X.to(device), y.to(device)\n",
    "\n",
    "        # Compute prediction error\n",
    "        pred = model(X)\n",
    "        loss = loss_fn(pred, y)\n",
    "\n",
    "        # Backpropagation\n",
    "        optimizer.zero_grad()\n",
    "        loss.backward()\n",
    "        optimizer.step()\n",
    "\n",
    "        if batch % 500 == 0:\n",
    "            loss, current = loss.item(), batch * len(X)\n",
    "            print(f\"loss: {loss:>7f}  [{current:>5d}/{size:>5d}]\")\n",
    "train(train_dataloader, model, loss_fn, optimizer)"
   ]
  },
  {
   "cell_type": "code",
   "execution_count": 6,
   "id": "ef78f62f",
   "metadata": {
    "ExecuteTime": {
     "end_time": "2022-04-07T14:02:36.812531Z",
     "start_time": "2022-04-07T14:01:49.317047Z"
    },
    "scrolled": true
   },
   "outputs": [
    {
     "name": "stdout",
     "output_type": "stream",
     "text": [
      "Epoch 1\n",
      "-------------------------------\n",
      "loss: 0.063003  [    0/60000]\n",
      "loss: 0.146717  [16000/60000]\n",
      "loss: 0.153203  [32000/60000]\n",
      "loss: 0.057069  [48000/60000]\n",
      "Epoch 2\n",
      "-------------------------------\n",
      "loss: 0.032237  [    0/60000]\n",
      "loss: 0.066193  [16000/60000]\n",
      "loss: 0.096605  [32000/60000]\n",
      "loss: 0.019842  [48000/60000]\n",
      "Epoch 3\n",
      "-------------------------------\n",
      "loss: 0.025023  [    0/60000]\n",
      "loss: 0.027660  [16000/60000]\n",
      "loss: 0.067231  [32000/60000]\n",
      "loss: 0.008851  [48000/60000]\n",
      "Epoch 4\n",
      "-------------------------------\n",
      "loss: 0.011568  [    0/60000]\n",
      "loss: 0.008181  [16000/60000]\n",
      "loss: 0.053195  [32000/60000]\n",
      "loss: 0.003043  [48000/60000]\n",
      "Epoch 5\n",
      "-------------------------------\n",
      "loss: 0.016413  [    0/60000]\n",
      "loss: 0.003470  [16000/60000]\n",
      "loss: 0.078849  [32000/60000]\n",
      "loss: 0.000761  [48000/60000]\n",
      "Epoch 6\n",
      "-------------------------------\n",
      "loss: 0.023388  [    0/60000]\n",
      "loss: 0.023217  [16000/60000]\n",
      "loss: 0.005758  [32000/60000]\n",
      "loss: 0.000276  [48000/60000]\n",
      "Epoch 7\n",
      "-------------------------------\n",
      "loss: 0.005165  [    0/60000]\n",
      "loss: 0.007125  [16000/60000]\n",
      "loss: 0.010041  [32000/60000]\n",
      "loss: 0.000439  [48000/60000]\n",
      "Epoch 8\n",
      "-------------------------------\n",
      "loss: 0.136993  [    0/60000]\n",
      "loss: 0.107957  [16000/60000]\n",
      "loss: 0.011168  [32000/60000]\n",
      "loss: 0.000395  [48000/60000]\n",
      "Epoch 9\n",
      "-------------------------------\n",
      "loss: 0.001736  [    0/60000]\n",
      "loss: 0.002264  [16000/60000]\n",
      "loss: 0.001331  [32000/60000]\n",
      "loss: 0.001797  [48000/60000]\n",
      "Epoch 10\n",
      "-------------------------------\n",
      "loss: 0.001523  [    0/60000]\n",
      "loss: 0.049707  [16000/60000]\n",
      "loss: 0.000369  [32000/60000]\n",
      "loss: 0.000086  [48000/60000]\n",
      "Epoch 11\n",
      "-------------------------------\n",
      "loss: 0.000158  [    0/60000]\n",
      "loss: 0.000870  [16000/60000]\n",
      "loss: 0.001229  [32000/60000]\n",
      "loss: 0.001457  [48000/60000]\n",
      "Epoch 12\n",
      "-------------------------------\n",
      "loss: 0.014037  [    0/60000]\n",
      "loss: 0.004332  [16000/60000]\n",
      "loss: 0.008939  [32000/60000]\n",
      "loss: 0.002680  [48000/60000]\n",
      "Epoch 13\n",
      "-------------------------------\n",
      "loss: 0.000029  [    0/60000]\n",
      "loss: 0.049045  [16000/60000]\n",
      "loss: 0.032441  [32000/60000]\n",
      "loss: 0.000055  [48000/60000]\n",
      "Epoch 14\n",
      "-------------------------------\n",
      "loss: 0.000005  [    0/60000]\n",
      "loss: 0.002967  [16000/60000]\n",
      "loss: 0.000082  [32000/60000]\n",
      "loss: 0.015722  [48000/60000]\n",
      "Epoch 15\n",
      "-------------------------------\n",
      "loss: 0.000021  [    0/60000]\n",
      "loss: 0.000156  [16000/60000]\n",
      "loss: 0.003209  [32000/60000]\n",
      "loss: 0.004047  [48000/60000]\n",
      "Epoch 16\n",
      "-------------------------------\n",
      "loss: 0.000040  [    0/60000]\n",
      "loss: 0.007415  [16000/60000]\n",
      "loss: 0.001523  [32000/60000]\n",
      "loss: 0.000017  [48000/60000]\n",
      "Epoch 17\n",
      "-------------------------------\n",
      "loss: 0.000019  [    0/60000]\n",
      "loss: 0.001930  [16000/60000]\n",
      "loss: 0.000152  [32000/60000]\n",
      "loss: 0.000009  [48000/60000]\n",
      "Epoch 18\n",
      "-------------------------------\n",
      "loss: 0.000014  [    0/60000]\n",
      "loss: 0.000217  [16000/60000]\n",
      "loss: 0.000306  [32000/60000]\n",
      "loss: 0.000113  [48000/60000]\n",
      "Epoch 19\n",
      "-------------------------------\n",
      "loss: 0.000022  [    0/60000]\n",
      "loss: 0.011546  [16000/60000]\n",
      "loss: 0.001497  [32000/60000]\n",
      "loss: 0.000008  [48000/60000]\n",
      "Epoch 20\n",
      "-------------------------------\n",
      "loss: 0.000016  [    0/60000]\n",
      "loss: 0.000088  [16000/60000]\n",
      "loss: 0.000053  [32000/60000]\n",
      "loss: 0.002735  [48000/60000]\n",
      "Done!\n"
     ]
    }
   ],
   "source": [
    "epochs = 20\n",
    "for t in range(epochs):\n",
    "    print(f\"Epoch {t+1}\\n-------------------------------\")\n",
    "    train(train_dataloader, model, loss_fn, optimizer)\n",
    "print(\"Done!\")"
   ]
  }
 ],
 "metadata": {
  "kernelspec": {
   "display_name": "Python 3 (ipykernel)",
   "language": "python",
   "name": "python3"
  },
  "language_info": {
   "codemirror_mode": {
    "name": "ipython",
    "version": 3
   },
   "file_extension": ".py",
   "mimetype": "text/x-python",
   "name": "python",
   "nbconvert_exporter": "python",
   "pygments_lexer": "ipython3",
   "version": "3.9.12"
  },
  "toc": {
   "base_numbering": 1,
   "nav_menu": {},
   "number_sections": true,
   "sideBar": true,
   "skip_h1_title": false,
   "title_cell": "Table of Contents",
   "title_sidebar": "Contents",
   "toc_cell": false,
   "toc_position": {},
   "toc_section_display": true,
   "toc_window_display": false
  },
  "varInspector": {
   "cols": {
    "lenName": 16,
    "lenType": 16,
    "lenVar": 40
   },
   "kernels_config": {
    "python": {
     "delete_cmd_postfix": "",
     "delete_cmd_prefix": "del ",
     "library": "var_list.py",
     "varRefreshCmd": "print(var_dic_list())"
    },
    "r": {
     "delete_cmd_postfix": ") ",
     "delete_cmd_prefix": "rm(",
     "library": "var_list.r",
     "varRefreshCmd": "cat(var_dic_list()) "
    }
   },
   "types_to_exclude": [
    "module",
    "function",
    "builtin_function_or_method",
    "instance",
    "_Feature"
   ],
   "window_display": false
  }
 },
 "nbformat": 4,
 "nbformat_minor": 5
}
