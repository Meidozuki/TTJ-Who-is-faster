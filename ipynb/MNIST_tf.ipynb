{
 "cells": [
  {
   "cell_type": "code",
   "execution_count": 1,
   "id": "77645c16",
   "metadata": {
    "ExecuteTime": {
     "end_time": "2022-04-07T13:58:42.282253Z",
     "start_time": "2022-04-07T13:58:41.121167Z"
    }
   },
   "outputs": [
    {
     "name": "stdout",
     "output_type": "stream",
     "text": [
      "2.6.0\n"
     ]
    }
   ],
   "source": [
    "import tensorflow as tf\n",
    "print(tf.__version__)\n",
    "\n",
    "import os\n",
    "os.environ['TF_CPP_MIN_LOG_LEVEL']='2'\n",
    "\n",
    "GPUs= tf.config.list_physical_devices(\"GPU\")\n",
    "for gpu in GPUs:\n",
    "    tf.config.experimental.set_memory_growth(gpu,True)\n",
    "logical_gpus=tf.config.list_logical_devices(\"GPU\")\n",
    "\n",
    "# tf.config.optimizer.set_jit(True)\n",
    "# print('jit:',tf.config.optimizer.get_jit())"
   ]
  },
  {
   "cell_type": "code",
   "execution_count": 2,
   "id": "87844c02",
   "metadata": {
    "ExecuteTime": {
     "end_time": "2022-04-07T13:58:42.840300Z",
     "start_time": "2022-04-07T13:58:42.283235Z"
    }
   },
   "outputs": [],
   "source": [
    "mnist = tf.keras.datasets.mnist\n",
    "\n",
    "(x_train, y_train), (x_test, y_test) = mnist.load_data()\n",
    "x_train, x_test = x_train / 255.0, x_test / 255.0\n",
    "ds=tf.data.Dataset.from_tensor_slices((x_train,y_train)).batch(32).prefetch(4)"
   ]
  },
  {
   "cell_type": "code",
   "execution_count": 3,
   "id": "0092ef96",
   "metadata": {
    "ExecuteTime": {
     "end_time": "2022-04-07T13:58:42.862376Z",
     "start_time": "2022-04-07T13:58:42.842095Z"
    }
   },
   "outputs": [],
   "source": [
    "model = tf.keras.models.Sequential([\n",
    "  tf.keras.layers.Flatten(input_shape=(28, 28)),\n",
    "  tf.keras.layers.Dense(512, activation='relu'),\n",
    "  tf.keras.layers.Dense(10, activation='softmax')\n",
    "])\n",
    "\n",
    "model.compile(optimizer='adam',\n",
    "              loss='sparse_categorical_crossentropy',\n",
    "              metrics=['accuracy'])"
   ]
  },
  {
   "cell_type": "code",
   "execution_count": 4,
   "id": "d62cb8a6",
   "metadata": {
    "ExecuteTime": {
     "end_time": "2022-04-07T13:58:44.935247Z",
     "start_time": "2022-04-07T13:58:42.863197Z"
    }
   },
   "outputs": [
    {
     "name": "stdout",
     "output_type": "stream",
     "text": [
      "1875/1875 - 2s - loss: 0.2105 - accuracy: 0.9380\n"
     ]
    },
    {
     "data": {
      "text/plain": [
       "<keras.callbacks.History at 0x7f4759de7b50>"
      ]
     },
     "execution_count": 4,
     "metadata": {},
     "output_type": "execute_result"
    }
   ],
   "source": [
    "model.fit(ds, epochs=1,verbose=2)"
   ]
  },
  {
   "cell_type": "code",
   "execution_count": 5,
   "id": "db1d2915",
   "metadata": {
    "ExecuteTime": {
     "end_time": "2022-04-07T13:59:15.010228Z",
     "start_time": "2022-04-07T13:58:44.935984Z"
    },
    "scrolled": true
   },
   "outputs": [
    {
     "name": "stdout",
     "output_type": "stream",
     "text": [
      "Epoch 1/20\n",
      "1875/1875 [==============================] - 1s 768us/step - loss: 0.0851 - accuracy: 0.9746\n",
      "Epoch 2/20\n",
      "1875/1875 [==============================] - 1s 750us/step - loss: 0.0523 - accuracy: 0.9845\n",
      "Epoch 3/20\n",
      "1875/1875 [==============================] - 1s 765us/step - loss: 0.0336 - accuracy: 0.9898\n",
      "Epoch 4/20\n",
      "1875/1875 [==============================] - 1s 748us/step - loss: 0.0225 - accuracy: 0.9933\n",
      "Epoch 5/20\n",
      "1875/1875 [==============================] - 1s 747us/step - loss: 0.0177 - accuracy: 0.9942\n",
      "Epoch 6/20\n",
      "1875/1875 [==============================] - 1s 754us/step - loss: 0.0160 - accuracy: 0.9948\n",
      "Epoch 7/20\n",
      "1875/1875 [==============================] - 1s 771us/step - loss: 0.0134 - accuracy: 0.9954\n",
      "Epoch 8/20\n",
      "1875/1875 [==============================] - 1s 732us/step - loss: 0.0128 - accuracy: 0.9959\n",
      "Epoch 9/20\n",
      "1875/1875 [==============================] - 1s 760us/step - loss: 0.0109 - accuracy: 0.9959\n",
      "Epoch 10/20\n",
      "1875/1875 [==============================] - 1s 756us/step - loss: 0.0081 - accuracy: 0.9973\n",
      "Epoch 11/20\n",
      "1875/1875 [==============================] - 1s 766us/step - loss: 0.0092 - accuracy: 0.9969\n",
      "Epoch 12/20\n",
      "1875/1875 [==============================] - 1s 738us/step - loss: 0.0077 - accuracy: 0.9973\n",
      "Epoch 13/20\n",
      "1875/1875 [==============================] - 1s 747us/step - loss: 0.0076 - accuracy: 0.9977\n",
      "Epoch 14/20\n",
      "1875/1875 [==============================] - 1s 755us/step - loss: 0.0094 - accuracy: 0.9970\n",
      "Epoch 15/20\n",
      "1875/1875 [==============================] - 1s 767us/step - loss: 0.0081 - accuracy: 0.9974\n",
      "Epoch 16/20\n",
      "1875/1875 [==============================] - 1s 737us/step - loss: 0.0064 - accuracy: 0.9979\n",
      "Epoch 17/20\n",
      "1875/1875 [==============================] - 1s 754us/step - loss: 0.0055 - accuracy: 0.9983\n",
      "Epoch 18/20\n",
      "1875/1875 [==============================] - 1s 742us/step - loss: 0.0059 - accuracy: 0.9980\n",
      "Epoch 19/20\n",
      "1875/1875 [==============================] - 1s 730us/step - loss: 0.0064 - accuracy: 0.9980\n",
      "Epoch 20/20\n",
      "1875/1875 [==============================] - 1s 755us/step - loss: 0.0057 - accuracy: 0.9983\n"
     ]
    },
    {
     "data": {
      "text/plain": [
       "<keras.callbacks.History at 0x7f4759f24a30>"
      ]
     },
     "execution_count": 5,
     "metadata": {},
     "output_type": "execute_result"
    }
   ],
   "source": [
    "model.fit(ds, epochs=20)"
   ]
  }
 ],
 "metadata": {
  "kernelspec": {
   "display_name": "Python 3 (ipykernel)",
   "language": "python",
   "name": "python3"
  },
  "language_info": {
   "codemirror_mode": {
    "name": "ipython",
    "version": 3
   },
   "file_extension": ".py",
   "mimetype": "text/x-python",
   "name": "python",
   "nbconvert_exporter": "python",
   "pygments_lexer": "ipython3",
   "version": "3.9.12"
  },
  "toc": {
   "base_numbering": 1,
   "nav_menu": {},
   "number_sections": true,
   "sideBar": true,
   "skip_h1_title": false,
   "title_cell": "Table of Contents",
   "title_sidebar": "Contents",
   "toc_cell": false,
   "toc_position": {},
   "toc_section_display": true,
   "toc_window_display": false
  },
  "varInspector": {
   "cols": {
    "lenName": 16,
    "lenType": 16,
    "lenVar": 40
   },
   "kernels_config": {
    "python": {
     "delete_cmd_postfix": "",
     "delete_cmd_prefix": "del ",
     "library": "var_list.py",
     "varRefreshCmd": "print(var_dic_list())"
    },
    "r": {
     "delete_cmd_postfix": ") ",
     "delete_cmd_prefix": "rm(",
     "library": "var_list.r",
     "varRefreshCmd": "cat(var_dic_list()) "
    }
   },
   "types_to_exclude": [
    "module",
    "function",
    "builtin_function_or_method",
    "instance",
    "_Feature"
   ],
   "window_display": false
  }
 },
 "nbformat": 4,
 "nbformat_minor": 5
}
