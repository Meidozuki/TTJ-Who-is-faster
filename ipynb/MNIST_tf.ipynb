{
 "cells": [
  {
   "cell_type": "code",
   "execution_count": 1,
   "id": "77645c16",
   "metadata": {
    "ExecuteTime": {
     "end_time": "2022-04-06T06:18:54.827949Z",
     "start_time": "2022-04-06T06:18:53.683818Z"
    }
   },
   "outputs": [
    {
     "name": "stdout",
     "output_type": "stream",
     "text": [
      "2.6.0\n"
     ]
    }
   ],
   "source": [
    "import tensorflow as tf\n",
    "print(tf.__version__)\n",
    "\n",
    "import os\n",
    "os.environ['TF_CPP_MIN_LOG_LEVEL']='2'\n",
    "\n",
    "GPUs= tf.config.list_physical_devices(\"GPU\")\n",
    "for gpu in GPUs:\n",
    "    tf.config.experimental.set_memory_growth(gpu,True)\n",
    "logical_gpus=tf.config.list_logical_devices(\"GPU\")\n",
    "\n",
    "# tf.config.optimizer.set_jit(True)\n",
    "# print('jit:',tf.config.optimizer.get_jit())"
   ]
  },
  {
   "cell_type": "code",
   "execution_count": 2,
   "id": "87844c02",
   "metadata": {
    "ExecuteTime": {
     "end_time": "2022-04-06T06:18:55.138022Z",
     "start_time": "2022-04-06T06:18:54.829142Z"
    }
   },
   "outputs": [],
   "source": [
    "mnist = tf.keras.datasets.mnist\n",
    "\n",
    "(x_train, y_train), (x_test, y_test) = mnist.load_data()\n",
    "x_train, x_test = x_train / 255.0, x_test / 255.0"
   ]
  },
  {
   "cell_type": "code",
   "execution_count": 3,
   "id": "0092ef96",
   "metadata": {
    "ExecuteTime": {
     "end_time": "2022-04-06T06:18:55.160992Z",
     "start_time": "2022-04-06T06:18:55.138916Z"
    }
   },
   "outputs": [],
   "source": [
    "model = tf.keras.models.Sequential([\n",
    "  tf.keras.layers.Flatten(input_shape=(28, 28)),\n",
    "  tf.keras.layers.Dense(512, activation='relu'),\n",
    "  tf.keras.layers.Dense(10, activation='softmax')\n",
    "])\n",
    "\n",
    "model.compile(optimizer='adam',\n",
    "              loss='sparse_categorical_crossentropy',\n",
    "              metrics=['accuracy'])"
   ]
  },
  {
   "cell_type": "code",
   "execution_count": 4,
   "id": "db1d2915",
   "metadata": {
    "ExecuteTime": {
     "end_time": "2022-04-06T06:19:20.762845Z",
     "start_time": "2022-04-06T06:18:55.161862Z"
    },
    "scrolled": true
   },
   "outputs": [
    {
     "name": "stdout",
     "output_type": "stream",
     "text": [
      "Epoch 1/20\n",
      "1875/1875 [==============================] - 2s 662us/step - loss: 0.2025 - accuracy: 0.93970s - los\n",
      "Epoch 2/20\n",
      "1875/1875 [==============================] - 1s 626us/step - loss: 0.0805 - accuracy: 0.9751\n",
      "Epoch 3/20\n",
      "1875/1875 [==============================] - 1s 643us/step - loss: 0.0519 - accuracy: 0.9831\n",
      "Epoch 4/20\n",
      "1875/1875 [==============================] - 1s 655us/step - loss: 0.0364 - accuracy: 0.9891\n",
      "Epoch 5/20\n",
      "1875/1875 [==============================] - 1s 671us/step - loss: 0.0273 - accuracy: 0.9912\n",
      "Epoch 6/20\n",
      "1875/1875 [==============================] - 1s 684us/step - loss: 0.0206 - accuracy: 0.9933\n",
      "Epoch 7/20\n",
      "1875/1875 [==============================] - 1s 664us/step - loss: 0.0166 - accuracy: 0.9945\n",
      "Epoch 8/20\n",
      "1875/1875 [==============================] - 1s 654us/step - loss: 0.0148 - accuracy: 0.9949\n",
      "Epoch 9/20\n",
      "1875/1875 [==============================] - 1s 661us/step - loss: 0.0110 - accuracy: 0.9964\n",
      "Epoch 10/20\n",
      "1875/1875 [==============================] - 1s 642us/step - loss: 0.0105 - accuracy: 0.9964\n",
      "Epoch 11/20\n",
      "1875/1875 [==============================] - 1s 682us/step - loss: 0.0102 - accuracy: 0.99690s - loss: 0.0\n",
      "Epoch 12/20\n",
      "1875/1875 [==============================] - 1s 660us/step - loss: 0.0084 - accuracy: 0.9971\n",
      "Epoch 13/20\n",
      "1875/1875 [==============================] - 1s 662us/step - loss: 0.0076 - accuracy: 0.9975\n",
      "Epoch 14/20\n",
      "1875/1875 [==============================] - 1s 648us/step - loss: 0.0075 - accuracy: 0.9974\n",
      "Epoch 15/20\n",
      "1875/1875 [==============================] - 1s 665us/step - loss: 0.0082 - accuracy: 0.9972\n",
      "Epoch 16/20\n",
      "1875/1875 [==============================] - 1s 657us/step - loss: 0.0064 - accuracy: 0.9980\n",
      "Epoch 17/20\n",
      "1875/1875 [==============================] - 1s 653us/step - loss: 0.0072 - accuracy: 0.9975\n",
      "Epoch 18/20\n",
      "1875/1875 [==============================] - 1s 654us/step - loss: 0.0055 - accuracy: 0.9982\n",
      "Epoch 19/20\n",
      "1875/1875 [==============================] - 1s 677us/step - loss: 0.0082 - accuracy: 0.9972\n",
      "Epoch 20/20\n",
      "1875/1875 [==============================] - 1s 647us/step - loss: 0.0051 - accuracy: 0.9985\n"
     ]
    },
    {
     "data": {
      "text/plain": [
       "<keras.callbacks.History at 0x7f33ca6afc10>"
      ]
     },
     "execution_count": 4,
     "metadata": {},
     "output_type": "execute_result"
    }
   ],
   "source": [
    "model.fit(x_train, y_train, epochs=20)"
   ]
  },
  {
   "cell_type": "code",
   "execution_count": 5,
   "id": "75042cb3",
   "metadata": {
    "ExecuteTime": {
     "end_time": "2022-04-06T06:19:21.021404Z",
     "start_time": "2022-04-06T06:19:20.764282Z"
    }
   },
   "outputs": [
    {
     "name": "stdout",
     "output_type": "stream",
     "text": [
      "313/313 - 0s - loss: 0.1095 - accuracy: 0.9836\n"
     ]
    },
    {
     "data": {
      "text/plain": [
       "[0.10948171466588974, 0.9836000204086304]"
      ]
     },
     "execution_count": 5,
     "metadata": {},
     "output_type": "execute_result"
    }
   ],
   "source": [
    "model.evaluate(x_test,  y_test, verbose=2)"
   ]
  }
 ],
 "metadata": {
  "kernelspec": {
   "display_name": "Python 3 (ipykernel)",
   "language": "python",
   "name": "python3"
  },
  "language_info": {
   "codemirror_mode": {
    "name": "ipython",
    "version": 3
   },
   "file_extension": ".py",
   "mimetype": "text/x-python",
   "name": "python",
   "nbconvert_exporter": "python",
   "pygments_lexer": "ipython3",
   "version": "3.9.7"
  },
  "toc": {
   "base_numbering": 1,
   "nav_menu": {},
   "number_sections": true,
   "sideBar": true,
   "skip_h1_title": false,
   "title_cell": "Table of Contents",
   "title_sidebar": "Contents",
   "toc_cell": false,
   "toc_position": {},
   "toc_section_display": true,
   "toc_window_display": false
  },
  "varInspector": {
   "cols": {
    "lenName": 16,
    "lenType": 16,
    "lenVar": 40
   },
   "kernels_config": {
    "python": {
     "delete_cmd_postfix": "",
     "delete_cmd_prefix": "del ",
     "library": "var_list.py",
     "varRefreshCmd": "print(var_dic_list())"
    },
    "r": {
     "delete_cmd_postfix": ") ",
     "delete_cmd_prefix": "rm(",
     "library": "var_list.r",
     "varRefreshCmd": "cat(var_dic_list()) "
    }
   },
   "types_to_exclude": [
    "module",
    "function",
    "builtin_function_or_method",
    "instance",
    "_Feature"
   ],
   "window_display": false
  }
 },
 "nbformat": 4,
 "nbformat_minor": 5
}
