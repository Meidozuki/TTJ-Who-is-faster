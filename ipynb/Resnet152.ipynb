{
 "cells": [
  {
   "cell_type": "code",
   "execution_count": 1,
   "id": "8de6fa2f",
   "metadata": {
    "ExecuteTime": {
     "end_time": "2022-04-09T13:48:06.930294Z",
     "start_time": "2022-04-09T13:48:04.210236Z"
    },
    "scrolled": true
   },
   "outputs": [],
   "source": [
    "import time\n",
    "import  os\n",
    "import jittor as jt\n",
    "from jittor import nn\n",
    "from jittor.models import resnet152\n",
    "jt.flags.use_cuda = jt.has_cuda\n",
    "\n",
    "batch_size = 8\n",
    "warmup = 10\n",
    "rerun = 1000\n",
    "data = jt.random((batch_size, 3, 224, 224))\n",
    "label= jt.randint(0,10,(batch_size,))\n",
    "model = resnet152(num_classes=10)\n",
    "\n",
    "loss_fn = nn.CrossEntropyLoss()\n",
    "optimizer = nn.Adam(model.parameters(),1e-3)"
   ]
  },
  {
   "cell_type": "code",
   "execution_count": 2,
   "id": "40099fb7",
   "metadata": {
    "ExecuteTime": {
     "end_time": "2022-04-09T13:51:51.008139Z",
     "start_time": "2022-04-09T13:48:24.343751Z"
    },
    "scrolled": true
   },
   "outputs": [
    {
     "name": "stdout",
     "output_type": "stream",
     "text": [
      "start warmup\n",
      "start run\n",
      " 999\n",
      " 201.14806866645813\n",
      "Jittor FPS: 39.77169680542907\n"
     ]
    }
   ],
   "source": [
    "\n",
    "print('start warmup')\n",
    "for i in range(warmup):\n",
    "    pred = model(data)\n",
    "    optimizer.step (loss_fn(pred, label))\n",
    "\n",
    "print('start run')\n",
    "start = time.time()\n",
    "for i in range(rerun):\n",
    "    print('\\r',i,end='')\n",
    "    pred = model(data)\n",
    "    optimizer.step (loss_fn(pred, label))\n",
    "    \n",
    "end = time.time()\n",
    "\n",
    "print('\\n',end-start)\n",
    "print(\"Jittor FPS:\", (rerun*batch_size)/(end-start))\n"
   ]
  },
  {
   "cell_type": "code",
   "execution_count": null,
   "id": "5f839c2d",
   "metadata": {},
   "outputs": [],
   "source": []
  },
  {
   "cell_type": "code",
   "execution_count": 1,
   "id": "1433a495",
   "metadata": {
    "ExecuteTime": {
     "end_time": "2022-04-09T13:46:46.173224Z",
     "start_time": "2022-04-09T13:42:59.658566Z"
    },
    "scrolled": true
   },
   "outputs": [
    {
     "name": "stderr",
     "output_type": "stream",
     "text": [
      "D:\\Anaconda\\envs\\pytorch\\lib\\site-packages\\tqdm\\auto.py:22: TqdmWarning: IProgress not found. Please update jupyter and ipywidgets. See https://ipywidgets.readthedocs.io/en/stable/user_install.html\n",
      "  from .autonotebook import tqdm as notebook_tqdm\n"
     ]
    },
    {
     "name": "stdout",
     "output_type": "stream",
     "text": [
      "start warmup\n",
      "start run\n",
      " 999\n",
      " 220.75602531433105\n",
      "PyTorch FPS: 36.23910146329607\n"
     ]
    }
   ],
   "source": [
    "import time\n",
    "import torch\n",
    "from torch import nn\n",
    "from torchvision.models import resnet152\n",
    "\n",
    "warmup = 10\n",
    "rerun = 1000\n",
    "batch_size = 8\n",
    "data = torch.randn((batch_size, 3, 224, 224)).to('cuda:0')\n",
    "label=torch.randint(0,10,(batch_size,)).to('cuda:0')\n",
    "model = resnet152(num_classes=10)\n",
    "model.to('cuda:0')\n",
    "model.eval()\n",
    "\n",
    "\n",
    "loss_fn = nn.CrossEntropyLoss()\n",
    "optimizer = torch.optim.Adam(model.parameters(), lr=0.001)\n",
    "\n",
    "# 此段代码对pytorch进行热身，确保时间测试准确\n",
    "print('start warmup')\n",
    "torch.cuda.synchronize()\n",
    "for i in range(warmup):\n",
    "    optimizer.zero_grad()\n",
    "    pred = model(data)\n",
    "    loss_fn(pred,label).backward()\n",
    "    optimizer.step()\n",
    "# synchronize用于确保PyTorch计算完成\n",
    "torch.cuda.synchronize()\n",
    "\n",
    "# 开始测试运行时间\n",
    "print('start run')\n",
    "start = time.time()\n",
    "for i in range(rerun):\n",
    "    print('\\r',i,end='')\n",
    "    optimizer.zero_grad()\n",
    "    pred = model(data)\n",
    "    loss_fn(pred,label).backward()\n",
    "    optimizer.step()\n",
    "torch.cuda.synchronize()\n",
    "end = time.time()\n",
    "\n",
    "print('\\n',end-start)\n",
    "print(\"PyTorch FPS:\", (rerun*batch_size)/(end-start))"
   ]
  },
  {
   "cell_type": "code",
   "execution_count": null,
   "id": "fc917a5d",
   "metadata": {},
   "outputs": [],
   "source": []
  },
  {
   "cell_type": "code",
   "execution_count": 3,
   "id": "0bac9729",
   "metadata": {
    "ExecuteTime": {
     "end_time": "2022-04-09T14:10:41.941726Z",
     "start_time": "2022-04-09T14:09:31.946136Z"
    },
    "scrolled": true
   },
   "outputs": [
    {
     "name": "stdout",
     "output_type": "stream",
     "text": [
      "2.6.3\n",
      "10/10 [==============================] - 67s 218ms/step - loss: 2.0259\n"
     ]
    },
    {
     "data": {
      "text/plain": [
       "<keras.callbacks.History at 0x24e0a7cfc70>"
      ]
     },
     "execution_count": 3,
     "metadata": {},
     "output_type": "execute_result"
    }
   ],
   "source": [
    "import numpy as np\n",
    "batch_size = 8\n",
    "y=np.random.randint(0,10,(batch_size,1))\n",
    "import os\n",
    "import tensorflow as tf\n",
    "print(tf.__version__)\n",
    "\n",
    "import tensorflow.keras.backend as K\n",
    "\n",
    "tf.config.optimizer.set_jit(True)\n",
    "\n",
    "warmup = 10\n",
    "rerun = 2000\n",
    "batch_size=8\n",
    "data=K.random_normal((batch_size,224,224,3))\n",
    "input_shape = data.shape[1:]\n",
    "classes = 10\n",
    "ds=tf.data.Dataset.from_tensor_slices((data,y)).repeat(-1).batch(8)\n",
    "\n",
    "model=tf.keras.Sequential([\n",
    "    tf.keras.applications.ResNet152(  \n",
    "    weights=None, input_shape=input_shape, classes=classes),\n",
    "    tf.keras.layers.Softmax()\n",
    "])\n",
    "\n",
    "model.compile(optimizer=\"adam\", \n",
    "              loss=\"sparse_categorical_crossentropy\"\n",
    "             )\n",
    "\n",
    "model.fit(ds,steps_per_epoch=10)"
   ]
  },
  {
   "cell_type": "code",
   "execution_count": 4,
   "id": "99fbf69a",
   "metadata": {
    "ExecuteTime": {
     "end_time": "2022-04-09T14:14:32.659020Z",
     "start_time": "2022-04-09T14:10:51.826507Z"
    },
    "scrolled": true
   },
   "outputs": [
    {
     "name": "stdout",
     "output_type": "stream",
     "text": [
      "1000/1000 [==============================] - 221s 221ms/step - loss: 1.8362\n"
     ]
    },
    {
     "data": {
      "text/plain": [
       "<keras.callbacks.History at 0x24c4c8a9c40>"
      ]
     },
     "execution_count": 4,
     "metadata": {},
     "output_type": "execute_result"
    }
   ],
   "source": [
    "\n",
    "model.fit(ds,steps_per_epoch=1000,verbose=1)"
   ]
  },
  {
   "cell_type": "code",
   "execution_count": null,
   "id": "615cdbdd",
   "metadata": {},
   "outputs": [],
   "source": []
  }
 ],
 "metadata": {
  "kernelspec": {
   "display_name": "tensorflow",
   "language": "python",
   "name": "tf"
  },
  "language_info": {
   "codemirror_mode": {
    "name": "ipython",
    "version": 3
   },
   "file_extension": ".py",
   "mimetype": "text/x-python",
   "name": "python",
   "nbconvert_exporter": "python",
   "pygments_lexer": "ipython3",
   "version": "3.9.7"
  },
  "toc": {
   "base_numbering": 1,
   "nav_menu": {},
   "number_sections": true,
   "sideBar": true,
   "skip_h1_title": false,
   "title_cell": "Table of Contents",
   "title_sidebar": "Contents",
   "toc_cell": false,
   "toc_position": {},
   "toc_section_display": true,
   "toc_window_display": false
  },
  "varInspector": {
   "cols": {
    "lenName": 16,
    "lenType": 16,
    "lenVar": 40
   },
   "kernels_config": {
    "python": {
     "delete_cmd_postfix": "",
     "delete_cmd_prefix": "del ",
     "library": "var_list.py",
     "varRefreshCmd": "print(var_dic_list())"
    },
    "r": {
     "delete_cmd_postfix": ") ",
     "delete_cmd_prefix": "rm(",
     "library": "var_list.r",
     "varRefreshCmd": "cat(var_dic_list()) "
    }
   },
   "types_to_exclude": [
    "module",
    "function",
    "builtin_function_or_method",
    "instance",
    "_Feature"
   ],
   "window_display": false
  }
 },
 "nbformat": 4,
 "nbformat_minor": 5
}
