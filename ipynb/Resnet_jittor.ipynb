{
 "cells": [
  {
   "cell_type": "code",
   "execution_count": 1,
   "id": "6cfd990d",
   "metadata": {
    "ExecuteTime": {
     "end_time": "2022-04-07T15:13:35.692865Z",
     "start_time": "2022-04-07T15:13:34.271435Z"
    },
    "scrolled": true
   },
   "outputs": [
    {
     "name": "stderr",
     "output_type": "stream",
     "text": [
      "\u001b[38;5;2m[i 0407 23:13:34.312036 80 log.cc:351] Load log_sync: 1\u001b[m\n",
      "\u001b[38;5;2m[i 0407 23:13:34.357913 80 compiler.py:951] Jittor(1.3.1.56) src: /home/hx-gpu3/anaconda3/envs/mmlab/lib/python3.9/site-packages/jittor\u001b[m\n",
      "\u001b[38;5;2m[i 0407 23:13:34.360780 80 compiler.py:952] g++ at /usr/bin/g++(7.5.0)\u001b[m\n",
      "\u001b[38;5;2m[i 0407 23:13:34.361434 80 compiler.py:953] cache_path: /home/hx-gpu3/.cache/jittor/jt1.3.1/g++7.5.0/py3.9.10/Linux-5.4.0-99x95/IntelRCoreTMi9x92/default\u001b[m\n",
      "\u001b[38;5;2m[i 0407 23:13:34.364197 80 compiler.py:896] Found nvcc(11.0.194) at /usr/local/cuda-11.0/bin/nvcc\u001b[m\n",
      "\u001b[38;5;2m[i 0407 23:13:34.399551 80 __init__.py:411] Found gdb(8.1.0) at /usr/bin/gdb.\u001b[m\n",
      "\u001b[38;5;2m[i 0407 23:13:34.403027 80 __init__.py:411] Found addr2line(2.30) at /usr/bin/addr2line.\u001b[m\n",
      "\u001b[38;5;2m[i 0407 23:13:34.462389 80 compiler.py:1006] cuda key:cu11.0.194_sm_86\u001b[m\n",
      "\u001b[38;5;2m[i 0407 23:13:34.559066 80 __init__.py:227] Total mem: 62.74GB, using 16 procs for compiling.\u001b[m\n",
      "\u001b[38;5;2m[i 0407 23:13:34.629625 80 jit_compiler.cc:28] Load cc_path: /usr/bin/g++\u001b[m\n",
      "\u001b[38;5;2m[i 0407 23:13:34.630373 80 jit_compiler.cc:31] Load nvcc_path: /usr/local/cuda-11.0/bin/nvcc\u001b[m\n",
      "\u001b[38;5;2m[i 0407 23:13:34.782104 80 init.cc:62] Found cuda archs: [86,]\u001b[m\n",
      "\u001b[38;5;3m[w 0407 23:13:34.788720 80 compiler.py:1351] CUDA arch(86)>80 will be backward-compatible\u001b[m\n",
      "gcc: error: unrecognized command line option ‘--showme:version’; did you mean ‘--no-version’?\n",
      "\u001b[38;5;2m[i 0407 23:13:34.800700 80 compile_extern.py:516] mpicc not found, distribution disabled.\u001b[m\n",
      "\u001b[38;5;3m[w 0407 23:13:34.816413 80 compile_extern.py:200] CUDA related path found in LD_LIBRARY_PATH or PATH(['', '/usr/local/cuda-11.1/lib64', '/home/hx-gpu3/anaconda3/envs/mmlab/bin', '/home/hx-gpu3/anaconda3/condabin', '/usr/local/sbin', '/usr/local/bin', '/usr/sbin', '/usr/bin', '/sbin', '/bin', '/usr/games', '/usr/local/games', '/snap/bin', '/usr/local/cuda-11.1/bin', '/home/hx-gpu3/.myscripts']), This path may cause jittor found the wrong libs, please unset LD_LIBRARY_PATH and remove cuda lib path in Path. \u001b[m\n",
      "\u001b[38;5;2m[i 0407 23:13:34.829444 80 compile_extern.py:30] found /usr/local/cuda-11.0/include/cublas.h\u001b[m\n",
      "\u001b[38;5;2m[i 0407 23:13:34.834508 80 compile_extern.py:30] found /usr/local/cuda-11.0/lib64/libcublas.so\u001b[m\n",
      "\u001b[38;5;2m[i 0407 23:13:34.835309 80 compile_extern.py:30] found /usr/local/cuda-11.0/lib64/libcublasLt.so.11\u001b[m\n",
      "\u001b[38;5;2m[i 0407 23:13:35.199432 80 compile_extern.py:30] found /usr/local/cuda-11.0/include/cudnn.h\u001b[m\n",
      "\u001b[38;5;2m[i 0407 23:13:35.215952 80 compile_extern.py:30] found /usr/local/cuda-11.0/lib64/libcudnn.so.8\u001b[m\n",
      "\u001b[38;5;2m[i 0407 23:13:35.216591 80 compile_extern.py:30] found /usr/local/cuda-11.0/lib64/libcudnn_ops_infer.so.8\u001b[m\n",
      "\u001b[38;5;2m[i 0407 23:13:35.218198 80 compile_extern.py:30] found /usr/local/cuda-11.0/lib64/libcudnn_ops_train.so.8\u001b[m\n",
      "\u001b[38;5;2m[i 0407 23:13:35.218794 80 compile_extern.py:30] found /usr/local/cuda-11.0/lib64/libcudnn_cnn_infer.so.8\u001b[m\n",
      "\u001b[38;5;2m[i 0407 23:13:35.309630 80 compile_extern.py:30] found /usr/local/cuda-11.0/lib64/libcudnn_cnn_train.so.8\u001b[m\n",
      "\u001b[38;5;2m[i 0407 23:13:35.648560 80 compile_extern.py:30] found /usr/local/cuda-11.0/include/curand.h\u001b[m\n",
      "\u001b[38;5;2m[i 0407 23:13:35.669247 80 compile_extern.py:30] found /usr/local/cuda-11.0/lib64/libcurand.so\u001b[m\n",
      "\u001b[38;5;2m[i 0407 23:13:35.690941 80 cuda_flags.cc:32] CUDA enabled.\u001b[m\n"
     ]
    }
   ],
   "source": [
    "# classification mnist example \n",
    "import  os\n",
    "os.environ['nvcc_path']='/usr/local/cuda-11.0/bin/nvcc'\n",
    "import jittor as jt  # 将 jittor 引入\n",
    "from jittor import nn, Module  # 引入相关的模块\n",
    "import numpy as np\n",
    "import math \n",
    "from jittor import init\n",
    "if jt.has_cuda:\n",
    "    jt.flags.use_cuda = 1 # jt.flags.use_cuda 表示是否使用 gpu 训练。\n",
    "# 如果 jt.flags.use_cuda=1，表示使用GPU训练 如果 jt.flags.use_cuda = 0 表示使用 CPU"
   ]
  },
  {
   "cell_type": "code",
   "execution_count": 2,
   "id": "2a4717f6",
   "metadata": {
    "ExecuteTime": {
     "end_time": "2022-04-07T15:13:36.215163Z",
     "start_time": "2022-04-07T15:13:35.694109Z"
    },
    "scrolled": true
   },
   "outputs": [
    {
     "name": "stdout",
     "output_type": "stream",
     "text": [
      "Files already downloaded and verified\n"
     ]
    }
   ],
   "source": [
    "from jittor.models import resnet50\n",
    "batch_size = 32\n",
    "learning_rate = 1e-3\n",
    "epochs = 3\n",
    "losses = []\n",
    "train_loader = jt.dataset.CIFAR10(\n",
    "    root=\"data\",\n",
    "    train=True,\n",
    "    download=True,\n",
    "    transform=jt.transform.ToTensor(),\n",
    ")\n",
    "train_loader.set_attrs(batch_size=batch_size,num_workers=8)\n",
    "\n",
    "model = resnet50(num_classes=10)\n",
    "loss_fn = nn.CrossEntropyLoss()\n",
    "optimizer = nn.RMSprop(model.parameters(), learning_rate)"
   ]
  },
  {
   "cell_type": "code",
   "execution_count": 3,
   "id": "d81bb7ce",
   "metadata": {
    "ExecuteTime": {
     "end_time": "2022-04-07T15:13:37.426807Z",
     "start_time": "2022-04-07T15:13:36.215963Z"
    },
    "scrolled": true
   },
   "outputs": [
    {
     "name": "stdout",
     "output_type": "stream",
     "text": [
      "Shape of X: [32,3,32,32,]\n",
      "Shape of y: [32,] \n"
     ]
    }
   ],
   "source": [
    "for X, y in train_loader:\n",
    "    print(f\"Shape of X: {X.shape}\")\n",
    "    print(f\"Shape of y: {y.shape} \")\n",
    "    break"
   ]
  },
  {
   "cell_type": "code",
   "execution_count": 4,
   "id": "907572f5",
   "metadata": {
    "ExecuteTime": {
     "end_time": "2022-04-07T15:13:37.430965Z",
     "start_time": "2022-04-07T15:13:37.428042Z"
    }
   },
   "outputs": [],
   "source": [
    "def train(model):\n",
    "    model.train()\n",
    "    for batch_idx, (inputs, targets) in enumerate(train_loader):\n",
    "        \n",
    "        optimizer.zero_grad()\n",
    "        outputs = model(inputs)\n",
    "        optimizer.step (loss_fn(outputs, targets))\n",
    "#         losses.append(loss.numpy()[0])\n",
    "        \n",
    "        print('\\r',batch_idx,end='')"
   ]
  },
  {
   "cell_type": "code",
   "execution_count": 5,
   "id": "dda33299",
   "metadata": {
    "ExecuteTime": {
     "end_time": "2022-04-07T15:13:52.834471Z",
     "start_time": "2022-04-07T15:13:37.432389Z"
    }
   },
   "outputs": [],
   "source": [
    "model.train()\n",
    "for batch_idx, (inputs, targets) in enumerate(train_loader):\n",
    "\n",
    "    outputs = model(inputs)\n",
    "    optimizer.step (loss_fn(outputs, targets))\n",
    "    if batch_idx > 500: break"
   ]
  },
  {
   "cell_type": "code",
   "execution_count": 6,
   "id": "99747bee",
   "metadata": {
    "ExecuteTime": {
     "end_time": "2022-04-07T15:16:09.911217Z",
     "start_time": "2022-04-07T15:13:52.835252Z"
    },
    "scrolled": true
   },
   "outputs": [
    {
     "name": "stdout",
     "output_type": "stream",
     "text": [
      " 1562\n",
      " 45.6605179309845\n",
      " 1562\n",
      " 91.31424403190613\n",
      " 1562\n",
      " 137.07407641410828\n"
     ]
    }
   ],
   "source": [
    "\n",
    "# jt.sync_all(True)\n",
    "\n",
    "import time\n",
    "st=time.time()\n",
    "for epoch in range(epochs):\n",
    "    train(model)\n",
    "    print('\\n',time.time()-st)"
   ]
  }
 ],
 "metadata": {
  "kernelspec": {
   "display_name": "Python [conda env:mmlab]",
   "language": "python",
   "name": "conda-env-mmlab-py"
  },
  "language_info": {
   "codemirror_mode": {
    "name": "ipython",
    "version": 3
   },
   "file_extension": ".py",
   "mimetype": "text/x-python",
   "name": "python",
   "nbconvert_exporter": "python",
   "pygments_lexer": "ipython3",
   "version": "3.9.10"
  },
  "toc": {
   "base_numbering": 1,
   "nav_menu": {},
   "number_sections": true,
   "sideBar": true,
   "skip_h1_title": false,
   "title_cell": "Table of Contents",
   "title_sidebar": "Contents",
   "toc_cell": false,
   "toc_position": {},
   "toc_section_display": true,
   "toc_window_display": false
  },
  "varInspector": {
   "cols": {
    "lenName": 16,
    "lenType": 16,
    "lenVar": 40
   },
   "kernels_config": {
    "python": {
     "delete_cmd_postfix": "",
     "delete_cmd_prefix": "del ",
     "library": "var_list.py",
     "varRefreshCmd": "print(var_dic_list())"
    },
    "r": {
     "delete_cmd_postfix": ") ",
     "delete_cmd_prefix": "rm(",
     "library": "var_list.r",
     "varRefreshCmd": "cat(var_dic_list()) "
    }
   },
   "types_to_exclude": [
    "module",
    "function",
    "builtin_function_or_method",
    "instance",
    "_Feature"
   ],
   "window_display": false
  }
 },
 "nbformat": 4,
 "nbformat_minor": 5
}
