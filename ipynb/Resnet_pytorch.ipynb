{
 "cells": [
  {
   "cell_type": "code",
   "execution_count": 1,
   "id": "7ad8a95e",
   "metadata": {
    "ExecuteTime": {
     "end_time": "2022-04-06T06:09:01.100593Z",
     "start_time": "2022-04-06T06:09:00.702411Z"
    }
   },
   "outputs": [
    {
     "name": "stdout",
     "output_type": "stream",
     "text": [
      "1.8.2\n"
     ]
    }
   ],
   "source": [
    "import torch\n",
    "from torch import nn, optim\n",
    "from torch.utils.data import DataLoader\n",
    "from torchvision import datasets\n",
    "from torchvision.transforms import ToTensor\n",
    "print(torch.__version__)"
   ]
  },
  {
   "cell_type": "code",
   "execution_count": 2,
   "id": "ef74bf22",
   "metadata": {
    "ExecuteTime": {
     "end_time": "2022-04-06T06:09:01.633987Z",
     "start_time": "2022-04-06T06:09:01.101639Z"
    }
   },
   "outputs": [
    {
     "name": "stdout",
     "output_type": "stream",
     "text": [
      "Files already downloaded and verified\n"
     ]
    }
   ],
   "source": [
    "# Download training data from open datasets.\n",
    "training_data = datasets.CIFAR10(\n",
    "    root=\"data\",\n",
    "    train=True,\n",
    "    download=True,\n",
    "    transform=ToTensor(),\n",
    ")\n",
    "\n",
    "batch_size = 32\n",
    "dataloader = DataLoader(training_data, batch_size=batch_size)"
   ]
  },
  {
   "cell_type": "code",
   "execution_count": 3,
   "id": "2d8e50e6",
   "metadata": {
    "ExecuteTime": {
     "end_time": "2022-04-06T06:09:01.640000Z",
     "start_time": "2022-04-06T06:09:01.634795Z"
    },
    "scrolled": true
   },
   "outputs": [
    {
     "name": "stdout",
     "output_type": "stream",
     "text": [
      "Shape of X [N, C, H, W]: torch.Size([32, 3, 32, 32])\n",
      "Shape of y: torch.Size([32]) torch.int64\n"
     ]
    }
   ],
   "source": [
    "for X, y in dataloader:\n",
    "    print(f\"Shape of X [N, C, H, W]: {X.shape}\")\n",
    "    print(f\"Shape of y: {y.shape} {y.dtype}\")\n",
    "    break"
   ]
  },
  {
   "cell_type": "code",
   "execution_count": 4,
   "id": "283fb81d",
   "metadata": {
    "ExecuteTime": {
     "end_time": "2022-04-06T06:09:03.149849Z",
     "start_time": "2022-04-06T06:09:01.640678Z"
    }
   },
   "outputs": [],
   "source": [
    "import torchvision.models as models\n",
    "num_classes=10\n",
    "model = models.resnet50(num_classes=num_classes).to('cuda:0')\n",
    "\n",
    "loss_fn = nn.CrossEntropyLoss()\n",
    "optimizer = optim.RMSprop(model.parameters(), lr=0.001)"
   ]
  },
  {
   "cell_type": "code",
   "execution_count": 5,
   "id": "99853c47",
   "metadata": {
    "ExecuteTime": {
     "end_time": "2022-04-06T06:09:03.153592Z",
     "start_time": "2022-04-06T06:09:03.151191Z"
    }
   },
   "outputs": [],
   "source": [
    "def train(model):\n",
    "    model.train(True)\n",
    "\n",
    "    for i, (inputs, labels) in enumerate(dataloader):\n",
    "\n",
    "        # run forward pass\n",
    "        optimizer.zero_grad()\n",
    "        outputs = model(inputs.to('cuda:0'))\n",
    "\n",
    "        # run backward pass\n",
    "        labels = labels.to(outputs.device)\n",
    "        loss_fn(outputs, labels).backward()\n",
    "        optimizer.step()\n",
    "        \n",
    "        print('\\r',i,end='')"
   ]
  },
  {
   "cell_type": "code",
   "execution_count": 6,
   "id": "b48b867e",
   "metadata": {
    "ExecuteTime": {
     "end_time": "2022-04-06T06:12:20.082951Z",
     "start_time": "2022-04-06T06:09:03.154221Z"
    },
    "scrolled": true
   },
   "outputs": [
    {
     "name": "stdout",
     "output_type": "stream",
     "text": [
      "Epoch 1\n",
      "\n",
      " 1562\n",
      " 40.226399660110474\n",
      "Epoch 2\n",
      "\n",
      " 1562\n",
      " 79.64202094078064\n",
      "Epoch 3\n",
      "\n",
      " 1562\n",
      " 118.3833498954773\n",
      "Epoch 4\n",
      "\n",
      " 1562\n",
      " 157.89736127853394\n",
      "Epoch 5\n",
      "\n",
      " 1562\n",
      " 196.91719698905945\n",
      "Done!\n"
     ]
    }
   ],
   "source": [
    "\n",
    "import time\n",
    "st=time.time()\n",
    "epochs = 5\n",
    "for t in range(epochs):\n",
    "    print(f\"Epoch {t+1}\\n\")\n",
    "    train(model)\n",
    "    print('\\n',time.time()-st)\n",
    "print(\"Done!\")"
   ]
  }
 ],
 "metadata": {
  "kernelspec": {
   "display_name": "Python 3 (ipykernel)",
   "language": "python",
   "name": "python3"
  },
  "language_info": {
   "codemirror_mode": {
    "name": "ipython",
    "version": 3
   },
   "file_extension": ".py",
   "mimetype": "text/x-python",
   "name": "python",
   "nbconvert_exporter": "python",
   "pygments_lexer": "ipython3",
   "version": "3.9.7"
  },
  "toc": {
   "base_numbering": 1,
   "nav_menu": {},
   "number_sections": true,
   "sideBar": true,
   "skip_h1_title": false,
   "title_cell": "Table of Contents",
   "title_sidebar": "Contents",
   "toc_cell": false,
   "toc_position": {},
   "toc_section_display": true,
   "toc_window_display": false
  },
  "varInspector": {
   "cols": {
    "lenName": 16,
    "lenType": 16,
    "lenVar": 40
   },
   "kernels_config": {
    "python": {
     "delete_cmd_postfix": "",
     "delete_cmd_prefix": "del ",
     "library": "var_list.py",
     "varRefreshCmd": "print(var_dic_list())"
    },
    "r": {
     "delete_cmd_postfix": ") ",
     "delete_cmd_prefix": "rm(",
     "library": "var_list.r",
     "varRefreshCmd": "cat(var_dic_list()) "
    }
   },
   "types_to_exclude": [
    "module",
    "function",
    "builtin_function_or_method",
    "instance",
    "_Feature"
   ],
   "window_display": false
  }
 },
 "nbformat": 4,
 "nbformat_minor": 5
}
