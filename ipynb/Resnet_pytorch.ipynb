{
 "cells": [
  {
   "cell_type": "code",
   "execution_count": 1,
   "id": "7ad8a95e",
   "metadata": {
    "ExecuteTime": {
     "end_time": "2022-04-07T15:32:19.186950Z",
     "start_time": "2022-04-07T15:32:18.815054Z"
    }
   },
   "outputs": [
    {
     "name": "stdout",
     "output_type": "stream",
     "text": [
      "1.8.2\n"
     ]
    }
   ],
   "source": [
    "import torch\n",
    "from torch import nn, optim\n",
    "from torch.utils.data import DataLoader\n",
    "from torchvision import datasets\n",
    "from torchvision.transforms import ToTensor\n",
    "print(torch.__version__)"
   ]
  },
  {
   "cell_type": "code",
   "execution_count": 2,
   "id": "ef74bf22",
   "metadata": {
    "ExecuteTime": {
     "end_time": "2022-04-07T14:56:43.251718Z",
     "start_time": "2022-04-07T14:56:42.736431Z"
    }
   },
   "outputs": [
    {
     "name": "stdout",
     "output_type": "stream",
     "text": [
      "Files already downloaded and verified\n"
     ]
    }
   ],
   "source": [
    "# Download training data from open datasets.\n",
    "training_data = datasets.CIFAR10(\n",
    "    root=\"data\",\n",
    "    train=True,\n",
    "    download=True,\n",
    "    transform=ToTensor(),\n",
    ")\n",
    "\n",
    "batch_size = 32\n",
    "dataloader = DataLoader(training_data, batch_size=batch_size, num_workers=4)"
   ]
  },
  {
   "cell_type": "code",
   "execution_count": 3,
   "id": "2d8e50e6",
   "metadata": {
    "ExecuteTime": {
     "end_time": "2022-04-07T14:56:43.309429Z",
     "start_time": "2022-04-07T14:56:43.253205Z"
    },
    "scrolled": true
   },
   "outputs": [
    {
     "name": "stdout",
     "output_type": "stream",
     "text": [
      "Shape of X [N, C, H, W]: torch.Size([32, 3, 32, 32])\n",
      "Shape of y: torch.Size([32]) torch.int64\n"
     ]
    }
   ],
   "source": [
    "for X, y in dataloader:\n",
    "    print(f\"Shape of X [N, C, H, W]: {X.shape}\")\n",
    "    print(f\"Shape of y: {y.shape} {y.dtype}\")\n",
    "    break"
   ]
  },
  {
   "cell_type": "code",
   "execution_count": 4,
   "id": "283fb81d",
   "metadata": {
    "ExecuteTime": {
     "end_time": "2022-04-07T14:56:44.750995Z",
     "start_time": "2022-04-07T14:56:43.310363Z"
    }
   },
   "outputs": [],
   "source": [
    "import torchvision.models as models\n",
    "num_classes=10\n",
    "model = models.resnet50(num_classes=num_classes).to('cuda:0')\n",
    "\n",
    "loss_fn = nn.CrossEntropyLoss()\n",
    "optimizer = optim.RMSprop(model.parameters(), lr=0.001)"
   ]
  },
  {
   "cell_type": "code",
   "execution_count": 5,
   "id": "99853c47",
   "metadata": {
    "ExecuteTime": {
     "end_time": "2022-04-07T14:56:44.754365Z",
     "start_time": "2022-04-07T14:56:44.751942Z"
    }
   },
   "outputs": [],
   "source": [
    "def train(model):\n",
    "    model.train(True)\n",
    "\n",
    "    for i, (inputs, labels) in enumerate(dataloader):\n",
    "        inputs,labels=inputs.to('cuda'),labels.to('cuda')\n",
    "\n",
    "        # run forward pass\n",
    "        optimizer.zero_grad()\n",
    "        outputs = model(inputs)\n",
    "\n",
    "        # run backward pass\n",
    "        loss_fn(outputs, labels).backward()\n",
    "        optimizer.step()\n",
    "        \n",
    "        print('\\r',i,end='')"
   ]
  },
  {
   "cell_type": "code",
   "execution_count": 6,
   "id": "8042f79b",
   "metadata": {
    "ExecuteTime": {
     "end_time": "2022-04-07T14:56:56.890944Z",
     "start_time": "2022-04-07T14:56:44.755072Z"
    }
   },
   "outputs": [],
   "source": [
    "for i, (inputs, labels) in enumerate(dataloader):\n",
    "    if i > 500: break\n",
    "    # run forward pass\n",
    "    optimizer.zero_grad()\n",
    "    outputs = model(inputs.to('cuda:0'))\n",
    "\n",
    "    # run backward pass\n",
    "    labels = labels.to(outputs.device)\n",
    "    loss_fn(outputs, labels).backward()\n",
    "    optimizer.step()"
   ]
  },
  {
   "cell_type": "code",
   "execution_count": 7,
   "id": "b48b867e",
   "metadata": {
    "ExecuteTime": {
     "end_time": "2022-04-07T14:58:38.846517Z",
     "start_time": "2022-04-07T14:56:56.891973Z"
    },
    "scrolled": true
   },
   "outputs": [
    {
     "name": "stdout",
     "output_type": "stream",
     "text": [
      "Epoch 1\n",
      "\n",
      " 1562\n",
      " 34.15656566619873\n",
      "Epoch 2\n",
      "\n",
      " 1562\n",
      " 68.22418117523193\n",
      "Epoch 3\n",
      "\n",
      " 1562\n",
      " 101.9520435333252\n"
     ]
    }
   ],
   "source": [
    "torch.cuda.synchronize()\n",
    "\n",
    "import time\n",
    "st=time.time()\n",
    "epochs = 3\n",
    "for t in range(epochs):\n",
    "    print(f\"Epoch {t+1}\\n\")\n",
    "    train(model)\n",
    "    print('\\n',time.time()-st)"
   ]
  }
 ],
 "metadata": {
  "kernelspec": {
   "display_name": "Python [conda env:mmlab]",
   "language": "python",
   "name": "conda-env-mmlab-py"
  },
  "language_info": {
   "codemirror_mode": {
    "name": "ipython",
    "version": 3
   },
   "file_extension": ".py",
   "mimetype": "text/x-python",
   "name": "python",
   "nbconvert_exporter": "python",
   "pygments_lexer": "ipython3",
   "version": "3.9.10"
  },
  "toc": {
   "base_numbering": 1,
   "nav_menu": {},
   "number_sections": true,
   "sideBar": true,
   "skip_h1_title": false,
   "title_cell": "Table of Contents",
   "title_sidebar": "Contents",
   "toc_cell": false,
   "toc_position": {},
   "toc_section_display": true,
   "toc_window_display": false
  },
  "varInspector": {
   "cols": {
    "lenName": 16,
    "lenType": 16,
    "lenVar": 40
   },
   "kernels_config": {
    "python": {
     "delete_cmd_postfix": "",
     "delete_cmd_prefix": "del ",
     "library": "var_list.py",
     "varRefreshCmd": "print(var_dic_list())"
    },
    "r": {
     "delete_cmd_postfix": ") ",
     "delete_cmd_prefix": "rm(",
     "library": "var_list.r",
     "varRefreshCmd": "cat(var_dic_list()) "
    }
   },
   "types_to_exclude": [
    "module",
    "function",
    "builtin_function_or_method",
    "instance",
    "_Feature"
   ],
   "window_display": false
  }
 },
 "nbformat": 4,
 "nbformat_minor": 5
}
